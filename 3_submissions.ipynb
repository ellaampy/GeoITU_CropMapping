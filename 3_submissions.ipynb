{
 "cells": [
  {
   "cell_type": "markdown",
   "id": "e33617a2-4a1e-4089-9513-6108353c20c0",
   "metadata": {},
   "source": [
    "## Submission \n",
    "- each region is trained seperately due to different cropping conditions\n",
    "- only light-weight classifiers were considered\n",
    "- for each region, the best hyper-parameters found during training is used\n",
    "- using spectral indices alone was better than raw bands or their combinations with indices\n"
   ]
  },
  {
   "cell_type": "code",
   "execution_count": 46,
   "id": "83cd1e1f-855e-41a1-a3a6-ea84897785e8",
   "metadata": {},
   "outputs": [],
   "source": [
    "from sklearn.ensemble import RandomForestClassifier\n",
    "from sklearn.model_selection import StratifiedKFold\n",
    "import catboost as ctb\n",
    "import os\n",
    "import pandas as pd\n",
    "import numpy as np\n",
    "from utils_datapreparation import *"
   ]
  },
  {
   "cell_type": "markdown",
   "id": "f1551ea9-8f82-45bb-a7c0-332c63b7e921",
   "metadata": {},
   "source": [
    "## load indices data for each region"
   ]
  },
  {
   "cell_type": "code",
   "execution_count": 47,
   "id": "48a27418-dbe2-4b76-9ff6-00288e5d6de0",
   "metadata": {},
   "outputs": [],
   "source": [
    "path = '/app/stella/dev/GeoITU/GeoITU_CropMapping'\n",
    "\n",
    "data_path = os.path.join(path, 'data')\n",
    "submission_loc = os.path.join(path, 'submission')\n",
    "\n",
    "## load train\n",
    "afgan_indices_train_X, afgan_train_y, = load_data('afghan', 'indices', 'Train', data_path)\n",
    "sudan_indices_train_X, sudan_train_y, = load_data('sudan', 'indices', 'Train', data_path)\n",
    "iran_indices_train_X, iran_train_y, = load_data('iran', 'indices', 'Train', data_path)\n",
    "\n",
    "## load test\n",
    "afgan_indices_test_X = load_data('afghan', 'indices', 'Test', data_path)\n",
    "sudan_indices_test_X = load_data('sudan', 'indices', 'Test', data_path)\n",
    "iran_indices_test_X = load_data('iran', 'indices', 'Test', data_path)"
   ]
  },
  {
   "cell_type": "code",
   "execution_count": 48,
   "id": "11404488-8bcf-4c76-b35e-0b884af84e82",
   "metadata": {},
   "outputs": [],
   "source": [
    "## load test ids\n",
    "afgan_ID_test_X = np.load(os.path.join(data_path, 'afghan_Test_ids.npy'), allow_pickle=True)\n",
    "sudan_ID_test_X = np.load(os.path.join(data_path, 'sudan_Test_ids.npy'), allow_pickle=True)\n",
    "iran_ID_test_X = np.load(os.path.join(data_path, 'iran_Test_ids.npy'), allow_pickle=True)"
   ]
  },
  {
   "cell_type": "markdown",
   "id": "d815a509-f85b-4e2a-8df1-cc2fdf6fdabe",
   "metadata": {},
   "source": [
    "## initialize models using best hyper-parameters"
   ]
  },
  {
   "cell_type": "markdown",
   "id": "af52a32e-0d78-4962-945e-af077141108b",
   "metadata": {},
   "source": [
    "- model training and cross-validation facilitated the selection of the best parameters\n",
    "- models are refitted on all training samples to predict test\n",
    "- several models are tried using raw bands only, indices only and raw bands + indices\n",
    "- Random forest classifier was marginally better and performed well with indices only"
   ]
  },
  {
   "cell_type": "code",
   "execution_count": 61,
   "id": "beaf2b40-054d-4213-b2de-490e7b63d72d",
   "metadata": {},
   "outputs": [],
   "source": [
    "iran_params = {'n_estimators': 352, 'max_depth': 8, 'min_samples_split': 19, 'bootstrap': False, 'n_jobs': -1}\n",
    "sudan_params = {'n_estimators': 167, 'max_depth': 14, 'min_samples_split': 31, 'bootstrap': True, 'n_jobs': -1}\n",
    "\n",
    "clf_afghan =  ctb.CatBoostClassifier(iterations=1700).fit(afgan_indices_train_X.reshape(afgan_indices_train_X.shape[0], -1), afgan_train_y, verbose=False)\n",
    "clf_iran = RandomForestClassifier(**iran_params).fit(iran_indices_train_X.reshape(iran_indices_train_X.shape[0], -1), iran_train_y)\n",
    "clf_sudan = RandomForestClassifier(**sudan_params).fit(sudan_indices_train_X.reshape(sudan_indices_train_X.shape[0], -1), sudan_train_y)\n",
    "\n",
    "pred_afghan = clf_afghan.predict(afgan_indices_test_X.reshape(afgan_indices_test_X.shape[0], -1))\n",
    "pred_iran = clf_iran.predict(iran_indices_test_X.reshape(iran_indices_test_X.shape[0], -1))\n",
    "pred_sudan = clf_sudan.predict(sudan_indices_test_X.reshape(sudan_indices_test_X.shape[0], -1))\n",
    "\n",
    "# # create submission file\n",
    "stacked_ids = np.concatenate([afgan_ID_test_X, iran_ID_test_X, sudan_ID_test_X])\n",
    "stacked_pred = np.concatenate([pred_afghan, pred_iran, pred_sudan])\n",
    "df = pd.DataFrame(list(zip(stacked_ids, stacked_pred)), columns =['ID', 'Target'])\n",
    "df.to_csv(os.path.join(submission_loc, 'indicesafghan_cat_bands_04102023_test2.csv'), index=False)"
   ]
  },
  {
   "cell_type": "code",
   "execution_count": null,
   "id": "cac122aa-1ac4-4903-b4b1-f7d152515710",
   "metadata": {},
   "outputs": [],
   "source": []
  }
 ],
 "metadata": {
  "kernelspec": {
   "display_name": "Python 3 (ipykernel)",
   "language": "python",
   "name": "python3"
  },
  "language_info": {
   "codemirror_mode": {
    "name": "ipython",
    "version": 3
   },
   "file_extension": ".py",
   "mimetype": "text/x-python",
   "name": "python",
   "nbconvert_exporter": "python",
   "pygments_lexer": "ipython3",
   "version": "3.10.6"
  }
 },
 "nbformat": 4,
 "nbformat_minor": 5
}
