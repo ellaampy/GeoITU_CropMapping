{
 "cells": [
  {
   "cell_type": "code",
   "execution_count": 3,
   "id": "46e2b975-f2fc-4fb5-907b-e6e621bede9a",
   "metadata": {},
   "outputs": [],
   "source": [
    "from sklearn.ensemble import RandomForestClassifier\n",
    "from sklearn.metrics import accuracy_score, f1_score\n",
    "from sklearn import preprocessing\n",
    "from sklearn.model_selection import StratifiedKFold\n",
    "import optuna\n",
    "import os\n",
    "import numpy as np"
   ]
  },
  {
   "cell_type": "markdown",
   "id": "eefd903a-9782-4c3b-9235-98fc365068a4",
   "metadata": {},
   "source": [
    "## load data"
   ]
  },
  {
   "cell_type": "code",
   "execution_count": 2,
   "id": "834de924-a816-43a3-afe0-d7810d4f9844",
   "metadata": {},
   "outputs": [
    {
     "name": "stdout",
     "output_type": "stream",
     "text": [
      "(500, 55, 15) (500,)\n"
     ]
    }
   ],
   "source": [
    "country = 'iran'\n",
    "mode = 'Train'\n",
    "feature = 'indices'\n",
    "\n",
    "path = '/app/stella/dev/GeoITU/data'\n",
    "\n",
    "X_indices = np.load(os.path.join(path, '{}_{}_{}.npy'.format(country, mode, feature)), allow_pickle=True)\n",
    "y_labels = np.load(os.path.join(path, '{}_{}_labels.npy'.format(country, mode)), allow_pickle=True)\n",
    "\n",
    "            \n",
    "print(X_indices.shape, y_labels.shape)\n",
    "assert X_indices.shape[0] == y_labels.shape[0]\n",
    "\n",
    "X_indices = X_indices.reshape(X_indices.shape[0], -1)"
   ]
  },
  {
   "cell_type": "markdown",
   "id": "332c0dfe-a722-4755-b0df-ff186fd7f135",
   "metadata": {},
   "source": [
    "## rf"
   ]
  },
  {
   "cell_type": "code",
   "execution_count": 7,
   "id": "c040f6d8-dbe4-4b2b-ae87-9ef3990bc26c",
   "metadata": {},
   "outputs": [
    {
     "name": "stderr",
     "output_type": "stream",
     "text": [
      "\u001b[32m[I 2023-10-03 17:28:26,726]\u001b[0m A new study created in memory with name: no-name-5f616e2e-5cdd-472c-8326-c79783130b83\u001b[0m\n",
      "\u001b[32m[I 2023-10-03 17:28:27,793]\u001b[0m Trial 0 finished with value: 0.97 and parameters: {'n_estimators': 352, 'max_depth': 8, 'min_samples_split': 19, 'bootstrap': False, 'n_jobs': -1}. Best is trial 0 with value: 0.97.\u001b[0m\n",
      "\u001b[32m[I 2023-10-03 17:28:29,053]\u001b[0m Trial 1 finished with value: 0.95 and parameters: {'n_estimators': 489, 'max_depth': 7, 'min_samples_split': 31, 'bootstrap': False, 'n_jobs': -1}. Best is trial 0 with value: 0.97.\u001b[0m\n",
      "\u001b[32m[I 2023-10-03 17:28:31,299]\u001b[0m Trial 2 finished with value: 0.96 and parameters: {'n_estimators': 916, 'max_depth': 4, 'min_samples_split': 14, 'bootstrap': False, 'n_jobs': -1}. Best is trial 0 with value: 0.97.\u001b[0m\n",
      "\u001b[32m[I 2023-10-03 17:28:32,088]\u001b[0m Trial 3 finished with value: 0.96 and parameters: {'n_estimators': 251, 'max_depth': 10, 'min_samples_split': 14, 'bootstrap': True, 'n_jobs': -1}. Best is trial 0 with value: 0.97.\u001b[0m\n",
      "\u001b[32m[I 2023-10-03 17:28:33,614]\u001b[0m Trial 4 finished with value: 0.97 and parameters: {'n_estimators': 458, 'max_depth': 12, 'min_samples_split': 15, 'bootstrap': True, 'n_jobs': -1}. Best is trial 0 with value: 0.97.\u001b[0m\n",
      "\u001b[32m[I 2023-10-03 17:28:34,763]\u001b[0m Trial 5 finished with value: 0.96 and parameters: {'n_estimators': 479, 'max_depth': 8, 'min_samples_split': 21, 'bootstrap': False, 'n_jobs': -1}. Best is trial 0 with value: 0.97.\u001b[0m\n",
      "\u001b[32m[I 2023-10-03 17:28:36,782]\u001b[0m Trial 6 finished with value: 0.96 and parameters: {'n_estimators': 838, 'max_depth': 5, 'min_samples_split': 24, 'bootstrap': False, 'n_jobs': -1}. Best is trial 0 with value: 0.97.\u001b[0m\n",
      "\u001b[32m[I 2023-10-03 17:28:39,178]\u001b[0m Trial 7 finished with value: 0.97 and parameters: {'n_estimators': 752, 'max_depth': 10, 'min_samples_split': 29, 'bootstrap': True, 'n_jobs': -1}. Best is trial 0 with value: 0.97.\u001b[0m\n",
      "\u001b[32m[I 2023-10-03 17:28:41,517]\u001b[0m Trial 8 finished with value: 0.95 and parameters: {'n_estimators': 683, 'max_depth': 3, 'min_samples_split': 31, 'bootstrap': True, 'n_jobs': -1}. Best is trial 0 with value: 0.97.\u001b[0m\n",
      "\u001b[32m[I 2023-10-03 17:28:42,964]\u001b[0m Trial 9 finished with value: 0.96 and parameters: {'n_estimators': 427, 'max_depth': 8, 'min_samples_split': 16, 'bootstrap': True, 'n_jobs': -1}. Best is trial 0 with value: 0.97.\u001b[0m\n",
      "\u001b[32m[I 2023-10-03 17:28:43,440]\u001b[0m Trial 10 finished with value: 0.96 and parameters: {'n_estimators': 153, 'max_depth': 14, 'min_samples_split': 5, 'bootstrap': False, 'n_jobs': -1}. Best is trial 0 with value: 0.97.\u001b[0m\n",
      "\u001b[32m[I 2023-10-03 17:28:44,475]\u001b[0m Trial 11 finished with value: 0.96 and parameters: {'n_estimators': 301, 'max_depth': 13, 'min_samples_split': 11, 'bootstrap': True, 'n_jobs': -1}. Best is trial 0 with value: 0.97.\u001b[0m\n",
      "\u001b[32m[I 2023-10-03 17:28:46,011]\u001b[0m Trial 12 finished with value: 0.95 and parameters: {'n_estimators': 627, 'max_depth': 12, 'min_samples_split': 21, 'bootstrap': False, 'n_jobs': -1}. Best is trial 0 with value: 0.97.\u001b[0m\n",
      "\u001b[32m[I 2023-10-03 17:28:47,183]\u001b[0m Trial 13 finished with value: 0.96 and parameters: {'n_estimators': 344, 'max_depth': 11, 'min_samples_split': 9, 'bootstrap': True, 'n_jobs': -1}. Best is trial 0 with value: 0.97.\u001b[0m\n",
      "\u001b[32m[I 2023-10-03 17:28:49,026]\u001b[0m Trial 14 finished with value: 0.95 and parameters: {'n_estimators': 572, 'max_depth': 15, 'min_samples_split': 18, 'bootstrap': True, 'n_jobs': -1}. Best is trial 0 with value: 0.97.\u001b[0m\n",
      "\u001b[32m[I 2023-10-03 17:28:49,577]\u001b[0m Trial 15 finished with value: 0.95 and parameters: {'n_estimators': 180, 'max_depth': 6, 'min_samples_split': 25, 'bootstrap': False, 'n_jobs': -1}. Best is trial 0 with value: 0.97.\u001b[0m\n",
      "\u001b[32m[I 2023-10-03 17:28:50,536]\u001b[0m Trial 16 finished with value: 0.96 and parameters: {'n_estimators': 385, 'max_depth': 12, 'min_samples_split': 10, 'bootstrap': False, 'n_jobs': -1}. Best is trial 0 with value: 0.97.\u001b[0m\n",
      "\u001b[32m[I 2023-10-03 17:28:51,362]\u001b[0m Trial 17 finished with value: 0.97 and parameters: {'n_estimators': 237, 'max_depth': 9, 'min_samples_split': 20, 'bootstrap': True, 'n_jobs': -1}. Best is trial 0 with value: 0.97.\u001b[0m\n",
      "\u001b[32m[I 2023-10-03 17:28:53,344]\u001b[0m Trial 18 finished with value: 0.96 and parameters: {'n_estimators': 830, 'max_depth': 9, 'min_samples_split': 26, 'bootstrap': False, 'n_jobs': -1}. Best is trial 0 with value: 0.97.\u001b[0m\n",
      "\u001b[32m[I 2023-10-03 17:28:55,240]\u001b[0m Trial 19 finished with value: 0.96 and parameters: {'n_estimators': 558, 'max_depth': 15, 'min_samples_split': 18, 'bootstrap': True, 'n_jobs': -1}. Best is trial 0 with value: 0.97.\u001b[0m\n",
      "\u001b[32m[I 2023-10-03 17:28:56,030]\u001b[0m Trial 20 finished with value: 0.97 and parameters: {'n_estimators': 248, 'max_depth': 7, 'min_samples_split': 22, 'bootstrap': True, 'n_jobs': -1}. Best is trial 0 with value: 0.97.\u001b[0m\n",
      "\u001b[32m[I 2023-10-03 17:28:58,322]\u001b[0m Trial 21 finished with value: 0.96 and parameters: {'n_estimators': 720, 'max_depth': 10, 'min_samples_split': 27, 'bootstrap': True, 'n_jobs': -1}. Best is trial 0 with value: 0.97.\u001b[0m\n",
      "\u001b[32m[I 2023-10-03 17:28:58,808]\u001b[0m Trial 22 finished with value: 0.96 and parameters: {'n_estimators': 120, 'max_depth': 9, 'min_samples_split': 15, 'bootstrap': True, 'n_jobs': -1}. Best is trial 0 with value: 0.97.\u001b[0m\n",
      "\u001b[32m[I 2023-10-03 17:28:59,733]\u001b[0m Trial 23 finished with value: 0.95 and parameters: {'n_estimators': 290, 'max_depth': 6, 'min_samples_split': 23, 'bootstrap': True, 'n_jobs': -1}. Best is trial 0 with value: 0.97.\u001b[0m\n",
      "\u001b[32m[I 2023-10-03 17:29:01,168]\u001b[0m Trial 24 finished with value: 0.95 and parameters: {'n_estimators': 429, 'max_depth': 7, 'min_samples_split': 12, 'bootstrap': True, 'n_jobs': -1}. Best is trial 0 with value: 0.97.\u001b[0m\n",
      "\u001b[32m[I 2023-10-03 17:29:04,307]\u001b[0m Trial 25 finished with value: 0.97 and parameters: {'n_estimators': 982, 'max_depth': 7, 'min_samples_split': 30, 'bootstrap': True, 'n_jobs': -1}. Best is trial 0 with value: 0.97.\u001b[0m\n",
      "\u001b[32m[I 2023-10-03 17:29:04,868]\u001b[0m Trial 26 finished with value: 0.96 and parameters: {'n_estimators': 219, 'max_depth': 8, 'min_samples_split': 20, 'bootstrap': False, 'n_jobs': -1}. Best is trial 0 with value: 0.97.\u001b[0m\n",
      "\u001b[32m[I 2023-10-03 17:29:06,069]\u001b[0m Trial 27 finished with value: 0.96 and parameters: {'n_estimators': 349, 'max_depth': 11, 'min_samples_split': 23, 'bootstrap': True, 'n_jobs': -1}. Best is trial 0 with value: 0.97.\u001b[0m\n",
      "\u001b[32m[I 2023-10-03 17:29:08,595]\u001b[0m Trial 28 finished with value: 0.96 and parameters: {'n_estimators': 984, 'max_depth': 5, 'min_samples_split': 8, 'bootstrap': False, 'n_jobs': -1}. Best is trial 0 with value: 0.97.\u001b[0m\n",
      "\u001b[32m[I 2023-10-03 17:29:09,862]\u001b[0m Trial 29 finished with value: 0.96 and parameters: {'n_estimators': 501, 'max_depth': 6, 'min_samples_split': 29, 'bootstrap': False, 'n_jobs': -1}. Best is trial 0 with value: 0.97.\u001b[0m\n",
      "\u001b[32m[I 2023-10-03 17:29:11,870]\u001b[0m Trial 30 finished with value: 0.96 and parameters: {'n_estimators': 622, 'max_depth': 13, 'min_samples_split': 7, 'bootstrap': True, 'n_jobs': -1}. Best is trial 0 with value: 0.97.\u001b[0m\n",
      "\u001b[32m[I 2023-10-03 17:29:14,420]\u001b[0m Trial 31 finished with value: 0.96 and parameters: {'n_estimators': 770, 'max_depth': 10, 'min_samples_split': 32, 'bootstrap': True, 'n_jobs': -1}. Best is trial 0 with value: 0.97.\u001b[0m\n",
      "\u001b[32m[I 2023-10-03 17:29:17,391]\u001b[0m Trial 32 finished with value: 0.96 and parameters: {'n_estimators': 908, 'max_depth': 11, 'min_samples_split': 29, 'bootstrap': True, 'n_jobs': -1}. Best is trial 0 with value: 0.97.\u001b[0m\n",
      "\u001b[32m[I 2023-10-03 17:29:20,452]\u001b[0m Trial 33 finished with value: 0.96 and parameters: {'n_estimators': 985, 'max_depth': 8, 'min_samples_split': 28, 'bootstrap': True, 'n_jobs': -1}. Best is trial 0 with value: 0.97.\u001b[0m\n",
      "\u001b[32m[I 2023-10-03 17:29:23,425]\u001b[0m Trial 34 finished with value: 0.96 and parameters: {'n_estimators': 904, 'max_depth': 10, 'min_samples_split': 13, 'bootstrap': True, 'n_jobs': -1}. Best is trial 0 with value: 0.97.\u001b[0m\n",
      "\u001b[32m[I 2023-10-03 17:29:26,118]\u001b[0m Trial 35 finished with value: 0.96 and parameters: {'n_estimators': 847, 'max_depth': 7, 'min_samples_split': 32, 'bootstrap': True, 'n_jobs': -1}. Best is trial 0 with value: 0.97.\u001b[0m\n",
      "\u001b[32m[I 2023-10-03 17:29:28,042]\u001b[0m Trial 36 finished with value: 0.96 and parameters: {'n_estimators': 744, 'max_depth': 5, 'min_samples_split': 29, 'bootstrap': False, 'n_jobs': -1}. Best is trial 0 with value: 0.97.\u001b[0m\n",
      "\u001b[32m[I 2023-10-03 17:29:30,596]\u001b[0m Trial 37 finished with value: 0.95 and parameters: {'n_estimators': 803, 'max_depth': 7, 'min_samples_split': 30, 'bootstrap': True, 'n_jobs': -1}. Best is trial 0 with value: 0.97.\u001b[0m\n",
      "\u001b[32m[I 2023-10-03 17:29:31,661]\u001b[0m Trial 38 finished with value: 0.94 and parameters: {'n_estimators': 443, 'max_depth': 3, 'min_samples_split': 16, 'bootstrap': False, 'n_jobs': -1}. Best is trial 0 with value: 0.97.\u001b[0m\n",
      "\u001b[32m[I 2023-10-03 17:29:33,880]\u001b[0m Trial 39 finished with value: 0.96 and parameters: {'n_estimators': 693, 'max_depth': 9, 'min_samples_split': 19, 'bootstrap': True, 'n_jobs': -1}. Best is trial 0 with value: 0.97.\u001b[0m\n",
      "\u001b[32m[I 2023-10-03 17:29:35,502]\u001b[0m Trial 40 finished with value: 0.94 and parameters: {'n_estimators': 506, 'max_depth': 9, 'min_samples_split': 25, 'bootstrap': True, 'n_jobs': -1}. Best is trial 0 with value: 0.97.\u001b[0m\n",
      "\u001b[32m[I 2023-10-03 17:29:36,318]\u001b[0m Trial 41 finished with value: 0.95 and parameters: {'n_estimators': 238, 'max_depth': 8, 'min_samples_split': 23, 'bootstrap': True, 'n_jobs': -1}. Best is trial 0 with value: 0.97.\u001b[0m\n",
      "\u001b[32m[I 2023-10-03 17:29:37,276]\u001b[0m Trial 42 finished with value: 0.96 and parameters: {'n_estimators': 281, 'max_depth': 7, 'min_samples_split': 21, 'bootstrap': True, 'n_jobs': -1}. Best is trial 0 with value: 0.97.\u001b[0m\n",
      "\u001b[32m[I 2023-10-03 17:29:37,916]\u001b[0m Trial 43 finished with value: 0.96 and parameters: {'n_estimators': 192, 'max_depth': 8, 'min_samples_split': 19, 'bootstrap': True, 'n_jobs': -1}. Best is trial 0 with value: 0.97.\u001b[0m\n",
      "\u001b[32m[I 2023-10-03 17:29:39,163]\u001b[0m Trial 44 finished with value: 0.95 and parameters: {'n_estimators': 344, 'max_depth': 6, 'min_samples_split': 22, 'bootstrap': True, 'n_jobs': -1}. Best is trial 0 with value: 0.97.\u001b[0m\n",
      "\u001b[32m[I 2023-10-03 17:29:39,617]\u001b[0m Trial 45 finished with value: 0.96 and parameters: {'n_estimators': 105, 'max_depth': 4, 'min_samples_split': 17, 'bootstrap': True, 'n_jobs': -1}. Best is trial 0 with value: 0.97.\u001b[0m\n",
      "\u001b[32m[I 2023-10-03 17:29:40,306]\u001b[0m Trial 46 finished with value: 0.95 and parameters: {'n_estimators': 262, 'max_depth': 11, 'min_samples_split': 27, 'bootstrap': False, 'n_jobs': -1}. Best is trial 0 with value: 0.97.\u001b[0m\n",
      "\u001b[32m[I 2023-10-03 17:29:41,555]\u001b[0m Trial 47 finished with value: 0.95 and parameters: {'n_estimators': 384, 'max_depth': 14, 'min_samples_split': 14, 'bootstrap': True, 'n_jobs': -1}. Best is trial 0 with value: 0.97.\u001b[0m\n",
      "\u001b[32m[I 2023-10-03 17:29:43,082]\u001b[0m Trial 48 finished with value: 0.96 and parameters: {'n_estimators': 620, 'max_depth': 12, 'min_samples_split': 31, 'bootstrap': False, 'n_jobs': -1}. Best is trial 0 with value: 0.97.\u001b[0m\n",
      "\u001b[32m[I 2023-10-03 17:29:44,587]\u001b[0m Trial 49 finished with value: 0.95 and parameters: {'n_estimators': 472, 'max_depth': 10, 'min_samples_split': 16, 'bootstrap': True, 'n_jobs': -1}. Best is trial 0 with value: 0.97.\u001b[0m\n"
     ]
    },
    {
     "name": "stdout",
     "output_type": "stream",
     "text": [
      "{'n_estimators': 352, 'max_depth': 8, 'min_samples_split': 19, 'bootstrap': False, 'n_jobs': -1}\n",
      "Fold 1 Accuracy: 0.96\n",
      "Fold 1 F_score: 0.959983993597439\n",
      "Fold 2 Accuracy: 0.95\n",
      "Fold 2 F_score: 0.949874686716792\n",
      "Fold 3 Accuracy: 0.97\n",
      "Fold 3 F_score: 0.9699729756781104\n",
      "Fold 4 Accuracy: 0.97\n",
      "Fold 4 F_score: 0.9699729756781104\n",
      "Fold 5 Accuracy: 0.96\n",
      "Fold 5 F_score: 0.96\n",
      "Average Accuracy across all folds: 0.9620\n",
      "Average Fscore across all folds: 0.9613\n"
     ]
    }
   ],
   "source": [
    "# Setting up the stratified k-fold cross-validation\n",
    "skf = StratifiedKFold(n_splits=5, shuffle=True, random_state=42)\n",
    "\n",
    "accuracies = []  # List to store accuracy of each fold\n",
    "f1_scores = []\n",
    "fold_num = 0\n",
    "num_trial = 50\n",
    "\n",
    "# 5-fold Stratified Cross Validation loop\n",
    "for train_index, test_index in skf.split(X_indices, y_labels):\n",
    "    fold_num += 1\n",
    "\n",
    "    # Splitting the dataset for this fold\n",
    "    X_train, X_test = [X_indices[i] for i in train_index], [X_indices[i] for i in test_index]\n",
    "    y_train_labels, y_test_labels = [y_labels[i] for i in train_index], [\n",
    "        y_labels[i] for i in test_index\n",
    "    ]\n",
    "    \n",
    "    \n",
    "    # optimize params for single fold\n",
    "    if fold_num == 1:  \n",
    "\n",
    "\n",
    "        def objective(trial):\n",
    "            params = {\n",
    "            'n_estimators' : trial.suggest_int('n_estimators', 100, 1000),\n",
    "            'max_depth' : trial.suggest_int('max_depth', 3, 15),\n",
    "            # 'max_features' : trial.suggest_categorical('max_features', ['auto', 'sqrt']), \n",
    "            'min_samples_split' : trial.suggest_int('min_samples_split', 5, 32),\n",
    "            'bootstrap' : trial.suggest_categorical('bootstrap', [True, False]),\n",
    "            'n_jobs' : trial.suggest_categorical('n_jobs', [-1]) #fixed. use all cpus\n",
    "            }\n",
    "\n",
    "            clf = RandomForestClassifier(**params)\n",
    "            clf.fit(X_train, y_train_labels)\n",
    "\n",
    "            # Making predictions on the test set\n",
    "            y_pred = clf.predict(X_test)\n",
    "\n",
    "            # Calculating and reporting the accuracy\n",
    "            accuracy = accuracy_score(y_test_labels, y_pred)\n",
    "            return accuracy\n",
    "\n",
    "\n",
    "        # optimize study\n",
    "        study = optuna.create_study(direction=\"maximize\")\n",
    "        study.optimize(objective, n_trials=num_trial) \n",
    "        print(study.best_params)\n",
    "                        \n",
    "    # Model training\n",
    "    clf = RandomForestClassifier(**study.best_params)  # change classifier here\n",
    "    clf.fit(X_train, y_train_labels)\n",
    "    \n",
    "\n",
    "    # Making predictions on the test set\n",
    "    y_pred = clf.predict(X_test)\n",
    "\n",
    "    # Calculating and reporting the accuracy\n",
    "    accuracy = accuracy_score(y_test_labels, y_pred)\n",
    "    accuracies.append(accuracy)  # Storing the accuracy\n",
    "    \n",
    "    # Calculating and reporting the fscore\n",
    "    f_score = f1_score(y_test_labels, y_pred, average='weighted')\n",
    "    f_scores.append(f_score)  # Storing the accuracy\n",
    "    print(f\"Fold {fold_num} Accuracy: {accuracy}\")\n",
    "    print(f\"Fold {fold_num} F_score: {f_score}\")\n",
    "\n",
    "# Reporting the final results\n",
    "avg_accuracy = np.mean(accuracies)\n",
    "avg_fscore = np.mean(f_scores)\n",
    "print(f\"Average Accuracy across all folds: {avg_accuracy:.4f}\")\n",
    "print(f\"Average Fscore across all folds: {avg_fscore:.4f}\")\n"
   ]
  }
 ],
 "metadata": {
  "kernelspec": {
   "display_name": "Python 3 (ipykernel)",
   "language": "python",
   "name": "python3"
  },
  "language_info": {
   "codemirror_mode": {
    "name": "ipython",
    "version": 3
   },
   "file_extension": ".py",
   "mimetype": "text/x-python",
   "name": "python",
   "nbconvert_exporter": "python",
   "pygments_lexer": "ipython3",
   "version": "3.10.6"
  }
 },
 "nbformat": 4,
 "nbformat_minor": 5
}
